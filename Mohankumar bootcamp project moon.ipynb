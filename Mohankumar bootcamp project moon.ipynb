{
 "cells": [
  {
   "cell_type": "code",
   "execution_count": 45,
   "metadata": {},
   "outputs": [],
   "source": [
    "import pandas as pd\n",
    "import numpy as np\n",
    "import matplotlib.pyplot as plt\n",
    "from sklearn import datasets\n",
    "from sklearn import metrics\n",
    "from sklearn.cluster import KMeans"
   ]
  },
  {
   "cell_type": "code",
   "execution_count": 74,
   "metadata": {},
   "outputs": [],
   "source": [
    "data_ = datasets.make_moons(110)\n"
   ]
  },
  {
   "cell_type": "code",
   "execution_count": 75,
   "metadata": {
    "scrolled": true
   },
   "outputs": [
    {
     "data": {
      "text/plain": [
       "(array([[ 2.69551294e-02,  2.69384129e-01],\n",
       "        [-5.81448289e-02,  9.98308158e-01],\n",
       "        [ 2.86803233e-01,  9.57989512e-01],\n",
       "        [-9.98308158e-01,  5.81448289e-02],\n",
       "        [ 1.44879918e+00, -3.93632640e-01],\n",
       "        [ 8.02123193e-01,  5.97158592e-01],\n",
       "        [ 5.00000000e-01,  8.66025404e-01],\n",
       "        [-6.86241638e-01,  7.27373642e-01],\n",
       "        [-9.18216107e-01,  3.96079766e-01],\n",
       "        [ 1.59715859e+00, -3.02123193e-01],\n",
       "        [-1.00000000e+00,  1.22464680e-16],\n",
       "        [ 1.69184173e-03,  4.41855171e-01],\n",
       "        [ 1.68624164e+00, -2.27373642e-01],\n",
       "        [ 5.51200820e-01, -3.93632640e-01],\n",
       "        [ 2.30615871e-01,  9.73044871e-01],\n",
       "        [-3.96079766e-01,  9.18216107e-01],\n",
       "        [ 1.51922470e-02,  3.26351822e-01],\n",
       "        [ 8.26351822e-01, -4.84807753e-01],\n",
       "        [ 1.34202014e+00, -4.39692621e-01],\n",
       "        [ 4.20104877e-02,  2.13196767e-01],\n",
       "        [ 1.97304487e+00,  2.69384129e-01],\n",
       "        [ 1.54950898e+00, -3.35487811e-01],\n",
       "        [ 1.17364818e+00, -4.84807753e-01],\n",
       "        [ 1.72737364e+00, -1.86241638e-01],\n",
       "        [ 6.03920234e-01, -4.18216107e-01],\n",
       "        [-2.30615871e-01,  9.73044871e-01],\n",
       "        [ 8.35487811e-01,  5.49508978e-01],\n",
       "        [ 9.18216107e-01,  3.96079766e-01],\n",
       "        [ 1.00000000e+00,  0.00000000e+00],\n",
       "        [ 8.17838931e-02,  1.03920234e-01],\n",
       "        [ 5.97158592e-01,  8.02123193e-01],\n",
       "        [-5.49508978e-01,  8.35487811e-01],\n",
       "        [ 6.76164226e-03,  3.83907086e-01],\n",
       "        [-8.66025404e-01,  5.00000000e-01],\n",
       "        [ 1.73648178e-01,  9.84807753e-01],\n",
       "        [ 6.86241638e-01,  7.27373642e-01],\n",
       "        [ 3.96079766e-01,  9.18216107e-01],\n",
       "        [ 1.39607977e+00, -4.18216107e-01],\n",
       "        [ 5.49508978e-01,  8.35487811e-01],\n",
       "        [-4.48799180e-01,  8.93632640e-01],\n",
       "        [-8.35487811e-01,  5.49508978e-01],\n",
       "        [ 1.11609291e+00, -4.93238358e-01],\n",
       "        [ 9.73044871e-01,  2.30615871e-01],\n",
       "        [ 8.83907086e-01, -4.93238358e-01],\n",
       "        [-3.42020143e-01,  9.39692621e-01],\n",
       "        [ 2.33955557e-01, -1.42787610e-01],\n",
       "        [-2.86803233e-01,  9.57989512e-01],\n",
       "        [ 8.66025404e-01,  5.00000000e-01],\n",
       "        [-1.16092914e-01,  9.93238358e-01],\n",
       "        [ 1.50000000e+00, -3.66025404e-01],\n",
       "        [ 9.57989512e-01,  2.86803233e-01],\n",
       "        [ 6.57979857e-01, -4.39692621e-01],\n",
       "        [ 9.39692621e-01,  3.42020143e-01],\n",
       "        [ 1.64278761e+00, -2.66044443e-01],\n",
       "        [-8.02123193e-01,  5.97158592e-01],\n",
       "        [-8.93632640e-01,  4.48799180e-01],\n",
       "        [ 7.13196767e-01, -4.57989512e-01],\n",
       "        [-1.73648178e-01,  9.84807753e-01],\n",
       "        [ 6.12323400e-17,  1.00000000e+00],\n",
       "        [ 6.03073792e-02,  1.57979857e-01],\n",
       "        [ 0.00000000e+00,  5.00000000e-01],\n",
       "        [ 1.83548781e+00, -4.95089781e-02],\n",
       "        [ 2.00000000e+00,  5.00000000e-01],\n",
       "        [-5.97158592e-01,  8.02123193e-01],\n",
       "        [-9.73044871e-01,  2.30615871e-01],\n",
       "        [ 1.80212319e+00, -9.71585917e-02],\n",
       "        [ 3.42020143e-01,  9.39692621e-01],\n",
       "        [-9.84807753e-01,  1.73648178e-01],\n",
       "        [ 1.91821611e+00,  1.03920234e-01],\n",
       "        [ 1.93969262e+00,  1.57979857e-01],\n",
       "        [-9.57989512e-01,  2.86803233e-01],\n",
       "        [ 4.02841408e-01, -3.02123193e-01],\n",
       "        [ 1.99830816e+00,  4.41855171e-01],\n",
       "        [ 9.84807753e-01,  1.73648178e-01],\n",
       "        [ 1.95798951e+00,  2.13196767e-01],\n",
       "        [ 3.13758362e-01, -2.27373642e-01],\n",
       "        [-7.66044443e-01,  6.42787610e-01],\n",
       "        [ 7.66044443e-01,  6.42787610e-01],\n",
       "        [ 5.81448289e-02,  9.98308158e-01],\n",
       "        [-9.93238358e-01,  1.16092914e-01],\n",
       "        [-7.27373642e-01,  6.86241638e-01],\n",
       "        [ 7.27373642e-01,  6.86241638e-01],\n",
       "        [ 1.99323836e+00,  3.83907086e-01],\n",
       "        [ 1.76604444e+00, -1.42787610e-01],\n",
       "        [ 9.41855171e-01, -4.98308158e-01],\n",
       "        [ 6.42787610e-01,  7.66044443e-01],\n",
       "        [ 4.48799180e-01,  8.93632640e-01],\n",
       "        [ 1.89363264e+00,  5.12008198e-02],\n",
       "        [ 1.16092914e-01,  9.93238358e-01],\n",
       "        [-9.39692621e-01,  3.42020143e-01],\n",
       "        [ 9.93238358e-01,  1.16092914e-01],\n",
       "        [-6.42787610e-01,  7.66044443e-01],\n",
       "        [ 4.50491022e-01, -3.35487811e-01],\n",
       "        [ 1.64512189e-01, -4.95089781e-02],\n",
       "        [ 1.28680323e+00, -4.57989512e-01],\n",
       "        [ 2.72626358e-01, -1.86241638e-01],\n",
       "        [ 1.33974596e-01,  0.00000000e+00],\n",
       "        [ 1.86602540e+00,  0.00000000e+00],\n",
       "        [ 7.69384129e-01, -4.73044871e-01],\n",
       "        [ 1.23061587e+00, -4.73044871e-01],\n",
       "        [ 3.57212390e-01, -2.66044443e-01],\n",
       "        [ 8.93632640e-01,  4.48799180e-01],\n",
       "        [ 1.00000000e+00, -5.00000000e-01],\n",
       "        [ 1.05814483e+00, -4.98308158e-01],\n",
       "        [-5.00000000e-01,  8.66025404e-01],\n",
       "        [ 1.97876807e-01, -9.71585917e-02],\n",
       "        [ 1.98480775e+00,  3.26351822e-01],\n",
       "        [ 5.00000000e-01, -3.66025404e-01],\n",
       "        [ 9.98308158e-01,  5.81448289e-02],\n",
       "        [ 1.06367360e-01,  5.12008198e-02]]),\n",
       " array([1, 0, 0, 0, 1, 0, 0, 0, 0, 1, 0, 1, 1, 1, 0, 0, 1, 1, 1, 1, 1, 1,\n",
       "        1, 1, 1, 0, 0, 0, 0, 1, 0, 0, 1, 0, 0, 0, 0, 1, 0, 0, 0, 1, 0, 1,\n",
       "        0, 1, 0, 0, 0, 1, 0, 1, 0, 1, 0, 0, 1, 0, 0, 1, 1, 1, 1, 0, 0, 1,\n",
       "        0, 0, 1, 1, 0, 1, 1, 0, 1, 1, 0, 0, 0, 0, 0, 0, 1, 1, 1, 0, 0, 1,\n",
       "        0, 0, 0, 0, 1, 1, 1, 1, 1, 1, 1, 1, 1, 0, 1, 1, 0, 1, 1, 1, 0, 1],\n",
       "       dtype=int64))"
      ]
     },
     "execution_count": 75,
     "metadata": {},
     "output_type": "execute_result"
    }
   ],
   "source": [
    "data_"
   ]
  },
  {
   "cell_type": "code",
   "execution_count": 76,
   "metadata": {},
   "outputs": [],
   "source": [
    "inputData = pd.DataFrame(data = data_[0])"
   ]
  },
  {
   "cell_type": "code",
   "execution_count": 77,
   "metadata": {},
   "outputs": [
    {
     "data": {
      "text/html": [
       "<div>\n",
       "<style scoped>\n",
       "    .dataframe tbody tr th:only-of-type {\n",
       "        vertical-align: middle;\n",
       "    }\n",
       "\n",
       "    .dataframe tbody tr th {\n",
       "        vertical-align: top;\n",
       "    }\n",
       "\n",
       "    .dataframe thead th {\n",
       "        text-align: right;\n",
       "    }\n",
       "</style>\n",
       "<table border=\"1\" class=\"dataframe\">\n",
       "  <thead>\n",
       "    <tr style=\"text-align: right;\">\n",
       "      <th></th>\n",
       "      <th>0</th>\n",
       "      <th>1</th>\n",
       "    </tr>\n",
       "  </thead>\n",
       "  <tbody>\n",
       "    <tr>\n",
       "      <th>0</th>\n",
       "      <td>0.026955</td>\n",
       "      <td>0.269384</td>\n",
       "    </tr>\n",
       "    <tr>\n",
       "      <th>1</th>\n",
       "      <td>-0.058145</td>\n",
       "      <td>0.998308</td>\n",
       "    </tr>\n",
       "    <tr>\n",
       "      <th>2</th>\n",
       "      <td>0.286803</td>\n",
       "      <td>0.957990</td>\n",
       "    </tr>\n",
       "    <tr>\n",
       "      <th>3</th>\n",
       "      <td>-0.998308</td>\n",
       "      <td>0.058145</td>\n",
       "    </tr>\n",
       "    <tr>\n",
       "      <th>4</th>\n",
       "      <td>1.448799</td>\n",
       "      <td>-0.393633</td>\n",
       "    </tr>\n",
       "  </tbody>\n",
       "</table>\n",
       "</div>"
      ],
      "text/plain": [
       "          0         1\n",
       "0  0.026955  0.269384\n",
       "1 -0.058145  0.998308\n",
       "2  0.286803  0.957990\n",
       "3 -0.998308  0.058145\n",
       "4  1.448799 -0.393633"
      ]
     },
     "execution_count": 77,
     "metadata": {},
     "output_type": "execute_result"
    }
   ],
   "source": [
    "inputData.head()"
   ]
  },
  {
   "cell_type": "code",
   "execution_count": 78,
   "metadata": {},
   "outputs": [
    {
     "data": {
      "text/plain": [
       "<matplotlib.collections.PathCollection at 0x1a2dd659df0>"
      ]
     },
     "execution_count": 78,
     "metadata": {},
     "output_type": "execute_result"
    },
    {
     "data": {
      "image/png": "[encoded data removed]",
      "text/plain": [
       "<Figure size 432x288 with 1 Axes>"
      ]
     },
     "metadata": {
      "needs_background": "light"
     },
     "output_type": "display_data"
    }
   ],
   "source": [
    "plt.scatter(inputData[0], inputData[1])\n"
   ]
  },
  {
   "cell_type": "code",
   "execution_count": 79,
   "metadata": {},
   "outputs": [],
   "source": [
    "outputData1 = pd.DataFrame(data = data_[1])\n"
   ]
  },
  {
   "cell_type": "code",
   "execution_count": 80,
   "metadata": {},
   "outputs": [
    {
     "data": {
      "text/html": [
       "<div>\n",
       "<style scoped>\n",
       "    .dataframe tbody tr th:only-of-type {\n",
       "        vertical-align: middle;\n",
       "    }\n",
       "\n",
       "    .dataframe tbody tr th {\n",
       "        vertical-align: top;\n",
       "    }\n",
       "\n",
       "    .dataframe thead th {\n",
       "        text-align: right;\n",
       "    }\n",
       "</style>\n",
       "<table border=\"1\" class=\"dataframe\">\n",
       "  <thead>\n",
       "    <tr style=\"text-align: right;\">\n",
       "      <th></th>\n",
       "      <th>0</th>\n",
       "    </tr>\n",
       "  </thead>\n",
       "  <tbody>\n",
       "    <tr>\n",
       "      <th>0</th>\n",
       "      <td>1</td>\n",
       "    </tr>\n",
       "    <tr>\n",
       "      <th>1</th>\n",
       "      <td>0</td>\n",
       "    </tr>\n",
       "    <tr>\n",
       "      <th>2</th>\n",
       "      <td>0</td>\n",
       "    </tr>\n",
       "    <tr>\n",
       "      <th>3</th>\n",
       "      <td>0</td>\n",
       "    </tr>\n",
       "    <tr>\n",
       "      <th>4</th>\n",
       "      <td>1</td>\n",
       "    </tr>\n",
       "  </tbody>\n",
       "</table>\n",
       "</div>"
      ],
      "text/plain": [
       "   0\n",
       "0  1\n",
       "1  0\n",
       "2  0\n",
       "3  0\n",
       "4  1"
      ]
     },
     "execution_count": 80,
     "metadata": {},
     "output_type": "execute_result"
    }
   ],
   "source": [
    "outputData1.head()"
   ]
  },
  {
   "cell_type": "code",
   "execution_count": 81,
   "metadata": {},
   "outputs": [
    {
     "data": {
      "text/plain": [
       "<matplotlib.collections.PathCollection at 0x1a2de8e54c0>"
      ]
     },
     "execution_count": 81,
     "metadata": {},
     "output_type": "execute_result"
    },
    {
     "data": {
      "image/png": "[encoded data removed]",
      "text/plain": [
       "<Figure size 432x288 with 1 Axes>"
      ]
     },
     "metadata": {
      "needs_background": "light"
     },
     "output_type": "display_data"
    }
   ],
   "source": [
    "plt.scatter(inputData[0], inputData[1], c = outputData1)"
   ]
  },
  {
   "cell_type": "code",
   "execution_count": 82,
   "metadata": {},
   "outputs": [
    {
     "data": {
      "text/plain": [
       "KMeans(n_clusters=5)"
      ]
     },
     "execution_count": 82,
     "metadata": {},
     "output_type": "execute_result"
    }
   ],
   "source": [
    "\n",
    "\n",
    "\n",
    "model = KMeans(n_clusters=5)\n",
    "model.fit(inputData)"
   ]
  },
  {
   "cell_type": "code",
   "execution_count": 83,
   "metadata": {},
   "outputs": [
    {
     "data": {
      "text/plain": [
       "array([0, 0, 0, 2, 1, 3, 0, 2, 2, 1, 2, 0, 1, 4, 0, 0, 0, 4, 1, 0, 1, 1,\n",
       "       4, 1, 4, 0, 3, 3, 3, 0, 3, 2, 0, 2, 0, 3, 0, 1, 3, 0, 2, 4, 3, 4,\n",
       "       0, 4, 0, 3, 0, 1, 3, 4, 3, 1, 2, 2, 4, 0, 0, 0, 0, 1, 1, 2, 2, 1,\n",
       "       0, 2, 1, 1, 2, 4, 1, 3, 1, 4, 2, 3, 0, 2, 2, 3, 1, 1, 4, 3, 0, 1,\n",
       "       0, 2, 3, 2, 4, 4, 1, 4, 4, 1, 4, 4, 4, 3, 4, 4, 0, 4, 1, 4, 3, 4])"
      ]
     },
     "execution_count": 83,
     "metadata": {},
     "output_type": "execute_result"
    }
   ],
   "source": [
    "model.labels_"
   ]
  },
  {
   "cell_type": "code",
   "execution_count": 84,
   "metadata": {},
   "outputs": [
    {
     "data": {
      "text/plain": [
       "0.47316576819363765"
      ]
     },
     "execution_count": 84,
     "metadata": {},
     "output_type": "execute_result"
    }
   ],
   "source": [
    "metrics.silhouette_score(inputData, model.labels_)"
   ]
  },
  {
   "cell_type": "code",
   "execution_count": 85,
   "metadata": {},
   "outputs": [
    {
     "data": {
      "text/plain": [
       "<matplotlib.collections.PathCollection at 0x1a2de736f40>"
      ]
     },
     "execution_count": 85,
     "metadata": {},
     "output_type": "execute_result"
    },
    {
     "data": {
      "image/png": "[encoded data removed]",
      "text/plain": [
       "<Figure size 432x288 with 1 Axes>"
      ]
     },
     "metadata": {
      "needs_background": "light"
     },
     "output_type": "display_data"
    }
   ],
   "source": [
    "plt.scatter(inputData[0], inputData[1], c = model.labels_)"
   ]
  },
  {
   "cell_type": "code",
   "execution_count": 86,
   "metadata": {},
   "outputs": [],
   "source": [
    "\n",
    "cluster_range = range(1, 20)\n",
    "error_list = []\n",
    "\n",
    "for i in cluster_range:\n",
    "    model = KMeans(n_clusters=i)\n",
    "    model.fit(inputData)\n",
    "    res = model.inertia_\n",
    "    error_list.append(res)"
   ]
  },
  {
   "cell_type": "code",
   "execution_count": 87,
   "metadata": {},
   "outputs": [
    {
     "data": {
      "image/png": "[encoded data removed]",
      "text/plain": [
       "<Figure size 432x288 with 1 Axes>"
      ]
     },
     "metadata": {
      "needs_background": "light"
     },
     "output_type": "display_data"
    }
   ],
   "source": [
    "import matplotlib.pyplot as plt\n",
    "\n",
    "plt.plot(cluster_range, error_list, marker = \"o\", color = \"g\", markersize = 10)\n",
    "plt.xlabel(\"Cluster Range\")\n",
    "plt.ylabel(\"IntraCluster Sum\")\n",
    "plt.title(\"KMeans\")\n",
    "plt.show()"
   ]
  },
  {
   "cell_type": "code",
   "execution_count": null,
   "metadata": {},
   "outputs": [],
   "source": []
  },
  {
   "cell_type": "code",
   "execution_count": null,
   "metadata": {},
   "outputs": [],
   "source": []
  }
 ],
 "metadata": {
  "kernelspec": {
   "display_name": "Python 3",
   "language": "python",
   "name": "python3"
  },
  "language_info": {
   "codemirror_mode": {
    "name": "ipython",
    "version": 3
   },
   "file_extension": ".py",
   "mimetype": "text/x-python",
   "name": "python",
   "nbconvert_exporter": "python",
   "pygments_lexer": "ipython3",
   "version": "3.8.5"
  }
 },
 "nbformat": 4,
 "nbformat_minor": 4
}
